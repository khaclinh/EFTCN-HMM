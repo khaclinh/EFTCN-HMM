{
 "cells": [
  {
   "cell_type": "code",
   "execution_count": 5,
   "metadata": {},
   "outputs": [],
   "source": [
    "import os\n",
    "import preprocess_subject_data\n",
    "import numpy as np\n",
    "import keras"
   ]
  },
  {
   "cell_type": "code",
   "execution_count": 6,
   "metadata": {},
   "outputs": [],
   "source": [
    "folder_path = 'data256'\n",
    "num_of_subjects = 36\n",
    "\n",
    "def load_data(datapath, numOfSubjects):\n",
    "\n",
    "    ext = '.npy'\n",
    "    \n",
    "    x_data = []\n",
    "    y_data = []\n",
    "    \n",
    "    for index in range(numOfSubjects):\n",
    "        x = np.load(os.path.join(datapath, 'x_data' + str(index) + ext))\n",
    "        y = np.load(os.path.join(datapath, 'y_data' + str(index) + ext))\n",
    "        \n",
    "        x_data.append(x)\n",
    "        y_data.append(y)\n",
    "    \n",
    "    \n",
    "\n",
    "        \n",
    "        \n",
    "    return x_data, y_data\n",
    "\n",
    "x_data, y_data = load_data('../../WIDSM_dataset/data256', 36)"
   ]
  },
  {
   "cell_type": "code",
   "execution_count": 7,
   "metadata": {},
   "outputs": [],
   "source": [
    "n_classes = 6\n"
   ]
  },
  {
   "cell_type": "code",
   "execution_count": 8,
   "metadata": {},
   "outputs": [
    {
     "data": {
      "text/plain": [
       "36"
      ]
     },
     "execution_count": 8,
     "metadata": {},
     "output_type": "execute_result"
    }
   ],
   "source": [
    "len(x_data)"
   ]
  },
  {
   "cell_type": "code",
   "execution_count": 9,
   "metadata": {},
   "outputs": [],
   "source": [
    "import keras\n",
    "from keras.layers import Dense, Conv2D, MaxPooling2D, Flatten, Dropout, Conv1D, MaxPooling1D, Activation\n",
    "from keras import optimizers, regularizers, layers\n",
    "from keras.callbacks import EarlyStopping\n"
   ]
  },
  {
   "cell_type": "code",
   "execution_count": 6,
   "metadata": {},
   "outputs": [],
   "source": [
    "def create_model(learning_rate = 0.001):\n",
    "    input_ = layers.Input(shape=[256, 3, 1])\n",
    "    \n",
    "    \n",
    "\n",
    "    \n",
    "    \n",
    "    x = layers.Conv2D(18, (13, 1), strides = 1, padding = 'valid', activation = 'relu')(input_)\n",
    "    x = layers.MaxPooling2D((2, 1))(x)\n",
    "    x = layers.Conv2D(36, (13, 1), strides = 1, padding = 'valid', activation = 'relu')(x)\n",
    "    x = layers.MaxPooling2D((2, 1))(x)\n",
    "    x = layers.Conv2D(24, (12, 1), strides = 1, padding = 'valid', activation = 'relu')(x)\n",
    "    x = layers.MaxPooling2D((2, 1))(x)\n",
    "        \n",
    "    output_ = layers.Flatten()(x)\n",
    "    output_ = layers.Dense(n_classes, activation='softmax')(output_)\n",
    "    \n",
    "    \n",
    "    model = keras.Model(inputs=input_, outputs=output_)\n",
    "    import tensorflow\n",
    "    model.compile(optimizer=tensorflow.keras.optimizers.Adam(lr=learning_rate),loss='categorical_crossentropy',metrics=['accuracy'])\n",
    "    \n",
    "    return model"
   ]
  },
  {
   "cell_type": "code",
   "execution_count": 7,
   "metadata": {
    "scrolled": true
   },
   "outputs": [
    {
     "name": "stdout",
     "output_type": "stream",
     "text": [
      "Model: \"model_1\"\n",
      "_________________________________________________________________\n",
      "Layer (type)                 Output Shape              Param #   \n",
      "=================================================================\n",
      "input_1 (InputLayer)         (None, 256, 3, 1)         0         \n",
      "_________________________________________________________________\n",
      "conv2d_1 (Conv2D)            (None, 244, 3, 18)        252       \n",
      "_________________________________________________________________\n",
      "max_pooling2d_1 (MaxPooling2 (None, 122, 3, 18)        0         \n",
      "_________________________________________________________________\n",
      "conv2d_2 (Conv2D)            (None, 110, 3, 36)        8460      \n",
      "_________________________________________________________________\n",
      "max_pooling2d_2 (MaxPooling2 (None, 55, 3, 36)         0         \n",
      "_________________________________________________________________\n",
      "conv2d_3 (Conv2D)            (None, 44, 3, 24)         10392     \n",
      "_________________________________________________________________\n",
      "max_pooling2d_3 (MaxPooling2 (None, 22, 3, 24)         0         \n",
      "_________________________________________________________________\n",
      "flatten_1 (Flatten)          (None, 1584)              0         \n",
      "_________________________________________________________________\n",
      "dense_1 (Dense)              (None, 6)                 9510      \n",
      "=================================================================\n",
      "Total params: 28,614\n",
      "Trainable params: 28,614\n",
      "Non-trainable params: 0\n",
      "_________________________________________________________________\n"
     ]
    }
   ],
   "source": [
    "model = create_model()\n",
    "model.summary()"
   ]
  },
  {
   "cell_type": "code",
   "execution_count": 10,
   "metadata": {
    "scrolled": true
   },
   "outputs": [
    {
     "name": "stdout",
     "output_type": "stream",
     "text": [
      "Train with learning rate 0.001 and batch size 32\n",
      "(2821, 256, 3, 1)\n"
     ]
    }
   ],
   "source": [
    "train_results = []\n",
    "num_of_subjects = 36\n",
    "learning_rate = 1e-3\n",
    "batch_size = 32\n",
    "\n",
    "count = 0\n",
    "sum = 0\n",
    "\n",
    "print('Train with learning rate ' + str(learning_rate) + ' and batch size ' + str(batch_size))\n",
    "\n",
    "\n",
    "x_valid_list = x_data[0:12]\n",
    "y_valid_list = y_data[0:12]\n",
    "\n",
    "x_train_list = x_data[12:36]\n",
    "y_train_list = y_data[12:36]\n",
    "\n",
    "\n",
    "x_valid = np.concatenate(tuple(x_valid_list))\n",
    "y_valid = np.concatenate(tuple(y_valid_list))\n",
    "x_train = np.concatenate(tuple(x_train_list))\n",
    "y_train = np.concatenate(tuple(y_train_list))\n",
    "\n",
    "x_train = x_train.reshape((x_train.shape[0], 256, 3, 1))\n",
    "print(x_train.shape)\n",
    "x_valid = x_valid.reshape((x_valid.shape[0], 256, 3, 1))\n",
    "\n",
    "# from keras.callbacks import EarlyStopping\n",
    "\n",
    "# my_callbacks = [\n",
    "#     keras.callbacks.ModelCheckpoint(filepath='model.{epoch:02d}-{val_accuracy:.2f}.h5',\n",
    "#                                        monitor=\"val_accuracy\",\n",
    "#                                        save_best_only=True)\n",
    "# ]\n",
    "\n",
    "# model = create_model(learning_rate)\n",
    "\n",
    "\n",
    "# H = model.fit(x_train, y_train, validation_data=(x_valid, y_valid), callbacks=my_callbacks, batch_size=batch_size, epochs=20, verbose=1)\n",
    "\n",
    "# best_acc = np.max(H.history['val_accuracy'])\n",
    "# print('Best acc of this valid set ' + str(best_acc))"
   ]
  },
  {
   "cell_type": "code",
   "execution_count": 12,
   "metadata": {},
   "outputs": [
    {
     "name": "stderr",
     "output_type": "stream",
     "text": [
      "/anaconda/envs/azureml_py36/lib/python3.6/site-packages/keras/engine/saving.py:341: UserWarning: No training configuration found in save file: the model was *not* compiled. Compile it manually.\n",
      "  warnings.warn('No training configuration found in save file: '\n"
     ]
    },
    {
     "name": "stdout",
     "output_type": "stream",
     "text": [
      "              precision    recall  f1-score   support\n",
      "\n",
      "     Jogging       0.95      0.95      0.95       418\n",
      "     Sitting       0.98      1.00      0.99        49\n",
      "    Standing       1.00      1.00      1.00        51\n",
      "     Walking       0.86      0.96      0.91       557\n",
      "    Upstairs       0.42      0.30      0.35       106\n",
      "  Downstairs       0.58      0.36      0.44        87\n",
      "\n",
      "   micro avg       0.86      0.86      0.86      1268\n",
      "   macro avg       0.80      0.76      0.77      1268\n",
      "weighted avg       0.85      0.86      0.85      1268\n",
      "\n",
      "Normalized confusion matrix\n"
     ]
    },
    {
     "data": {
      "text/plain": [
       "<Figure size 432x288 with 0 Axes>"
      ]
     },
     "metadata": {},
     "output_type": "display_data"
    },
    {
     "data": {
      "image/png": "[encoded data removed]",
      "text/plain": [
       "<Figure size 720x720 with 2 Axes>"
      ]
     },
     "metadata": {
      "needs_background": "light"
     },
     "output_type": "display_data"
    }
   ],
   "source": [
    "model = keras.models.load_model('model.02-0.86.h5')\n",
    "\n",
    "y_true = np.argmax(y_valid, axis = 1)\n",
    "y_pred = model.predict(x_valid)\n",
    "y_pred = np.argmax(y_pred, axis = 1)\n",
    "\n",
    "\n",
    "\n",
    "import itertools\n",
    "import numpy as np\n",
    "import matplotlib.pyplot as plt\n",
    "\n",
    "from sklearn import svm, datasets\n",
    "from sklearn.model_selection import train_test_split\n",
    "from sklearn.metrics import confusion_matrix\n",
    "from sklearn.metrics import classification_report\n",
    "\n",
    "\n",
    "def show_classification_report(y_true, y_pred, digits=4, labels=None, save_path=None):\n",
    "    \"\"\"\n",
    "    :param y_true: 1d array containing y true\n",
    "    :param y_pred: 1d array containing y pred\n",
    "    :param digits: number of digits to show\n",
    "    :param labels: list label names\n",
    "    :param save_path: path to save report\n",
    "    \"\"\"\n",
    "\n",
    "    # Select only existing labels from y true and y pred\n",
    "    unique_labels = np.unique(np.array([y_true, y_pred])).astype(np.int)\n",
    "    labels = labels[unique_labels]\n",
    "\n",
    "    # show report\n",
    "    report = classification_report(y_true, y_pred, digits=digits, target_names=labels)\n",
    "    print(report)\n",
    "\n",
    "    # save to file\n",
    "    if save_path is not None:\n",
    "        with open(save_path, 'w') as f:\n",
    "            f.write(report)\n",
    "\n",
    "\n",
    "\n",
    "def plot_confusion_matrix(cm, classes,\n",
    "                          normalize=False,\n",
    "                          title='Confusion matrix',\n",
    "                          cmap=plt.cm.Blues):\n",
    "    \"\"\"\n",
    "    This function prints and plots the confusion matrix.\n",
    "    Normalization can be applied by setting `normalize=True`.\n",
    "    \"\"\"\n",
    "    plt.figure(figsize=(10,10))\n",
    "    plt.imshow(cm, interpolation='nearest', cmap=cmap)\n",
    "    plt.title(title)\n",
    "    plt.colorbar()\n",
    "    tick_marks = np.arange(len(classes))\n",
    "    plt.xticks(tick_marks, classes, rotation=45)\n",
    "    plt.yticks(tick_marks, classes)\n",
    "\n",
    "    if normalize:\n",
    "        cm = cm.astype('float') / cm.sum(axis=1)[:, np.newaxis]\n",
    "        cm = np.around(cm, decimals=2)\n",
    "        print(\"Normalized confusion matrix\")\n",
    "    else:\n",
    "        print('Confusion matrix, without normalization')\n",
    "\n",
    "\n",
    "    thresh = cm.max() / 2.\n",
    "    for i, j in itertools.product(range(cm.shape[0]), range(cm.shape[1])):\n",
    "        plt.text(j, i, cm[i, j],\n",
    "                 horizontalalignment=\"center\",\n",
    "                 color=\"white\" if cm[i, j] > thresh else \"black\")\n",
    "\n",
    "    plt.tight_layout()\n",
    "    plt.ylabel('True label')\n",
    "    plt.xlabel('Predicted label')\n",
    "\n",
    "class_names = np.array(['Jogging',\n",
    "'Sitting',\n",
    "'Standing',\n",
    "'Walking',\n",
    "'Upstairs',\n",
    "'Downstairs'\n",
    "])\n",
    "    \n",
    "# Compute confusion matrix\n",
    "cnf_matrix = confusion_matrix(y_true, y_pred)\n",
    "np.set_printoptions(precision=2)\n",
    "\n",
    "# Show classificaiton report\n",
    "show_classification_report(y_true, y_pred, digits=2, labels=class_names)\n",
    "\n",
    "# Plot normalized confusion matrix\n",
    "plt.figure()\n",
    "plot_confusion_matrix(cnf_matrix, classes=class_names,normalize = True,\n",
    "                      title='Normalized confusion matrix')\n",
    "\n",
    "plt.show()"
   ]
  },
  {
   "cell_type": "code",
   "execution_count": 10,
   "metadata": {},
   "outputs": [
    {
     "name": "stderr",
     "output_type": "stream",
     "text": [
      "/anaconda/envs/azureml_py36/lib/python3.6/site-packages/keras/engine/saving.py:165: UserWarning: TensorFlow optimizers do not make it possible to access optimizer attributes or optimizer state after instantiation. As a result, we cannot save the optimizer as part of the model save file.You will have to compile your model again after loading it. Prefer using a Keras optimizer instead (see keras.io/optimizers).\n",
      "  'TensorFlow optimizers do not '\n"
     ]
    }
   ],
   "source": [
    "model.save('WISDM_model.h5')"
   ]
  }
 ],
 "metadata": {
  "kernelspec": {
   "display_name": "Python 3 (ipykernel)",
   "language": "python",
   "name": "python3"
  },
  "language_info": {
   "codemirror_mode": {
    "name": "ipython",
    "version": 3
   },
   "file_extension": ".py",
   "mimetype": "text/x-python",
   "name": "python",
   "nbconvert_exporter": "python",
   "pygments_lexer": "ipython3",
   "version": "3.7.13"
  }
 },
 "nbformat": 4,
 "nbformat_minor": 4
}
