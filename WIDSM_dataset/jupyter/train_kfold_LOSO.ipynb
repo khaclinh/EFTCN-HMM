{
 "cells": [
  {
   "cell_type": "code",
   "execution_count": 1,
   "metadata": {},
   "outputs": [
    {
     "name": "stderr",
     "output_type": "stream",
     "text": [
      "Using TensorFlow backend.\n"
     ]
    }
   ],
   "source": [
    "import os\n",
    "import model_ed_tcn as md\n",
    "import numpy as np\n",
    "import keras"
   ]
  },
  {
   "cell_type": "code",
   "execution_count": 2,
   "metadata": {},
   "outputs": [],
   "source": [
    "def load_data(datapath, numOfSubjects):\n",
    "\n",
    "    ext = '.npy'\n",
    "    \n",
    "    x_data = []\n",
    "    y_data = []\n",
    "    \n",
    "    for index in range(numOfSubjects):\n",
    "        x = np.load(os.path.join(datapath, 'x_data' + str(index) + ext))\n",
    "        y = np.load(os.path.join(datapath, 'y_data' + str(index) + ext))\n",
    "        \n",
    "        x_data.append(x)\n",
    "        y_data.append(y)\n",
    "    \n",
    "    \n",
    "\n",
    "        \n",
    "        \n",
    "    return x_data, y_data"
   ]
  },
  {
   "cell_type": "code",
   "execution_count": 3,
   "metadata": {},
   "outputs": [],
   "source": [
    "x_data, y_data = load_data('../data256', 36)"
   ]
  },
  {
   "cell_type": "code",
   "execution_count": 4,
   "metadata": {},
   "outputs": [],
   "source": [
    "model_obj = md.ED_TCN_fmap_fuse(\n",
    "    n_classes=6,\n",
    "    input_length=256,\n",
    "    early_fuse_cnn_channels=128,\n",
    "    tcn_encoder_channels=[128]*4,\n",
    "    tcn_decoder_channels=[128]*4,\n",
    "    tcn_encoder_maxpool_size=[2]*4,\n",
    "    tcn_decoder_upsample_size=[2, 2, 2, 2],\n",
    "    early_fuse_conv_kernel_size=3,\n",
    "    before_encode_pool_size=2,\n",
    "    tcn_kernel_size=5,\n",
    "    tcn_drop_rate=0.3,\n",
    "    use_spatial_drop=True,\n",
    "    drop_rate_before_midfc=0.3,\n",
    "    drop_rate_before_fcclassifier=0.3,\n",
    "    use_init_batch_norm=True,\n",
    ")"
   ]
  },
  {
   "cell_type": "code",
   "execution_count": 5,
   "metadata": {},
   "outputs": [],
   "source": [
    "def create_model(learning_rate=0.001):\n",
    "    global model_obj\n",
    "    \n",
    "    model = model_obj.create_model()\n",
    "    \n",
    "    import tensorflow\n",
    "    model.compile(optimizer=tensorflow.keras.optimizers.Adam(lr=learning_rate),loss='categorical_crossentropy',metrics=['accuracy'])\n",
    "    \n",
    "    return model"
   ]
  },
  {
   "cell_type": "code",
   "execution_count": 7,
   "metadata": {
    "tags": []
   },
   "outputs": [
    {
     "name": "stdout",
     "output_type": "stream",
     "text": [
      "Model: \"model_1\"\n",
      "_________________________________________________________________\n",
      "Layer (type)                 Output Shape              Param #   \n",
      "=================================================================\n",
      "input_2 (InputLayer)         (None, 256, 3)            0         \n",
      "_________________________________________________________________\n",
      "lambda_2 (Lambda)            (None, 256, 3)            0         \n",
      "_________________________________________________________________\n",
      "batch_normalization_2 (Batch (None, 256, 3)            12        \n",
      "_________________________________________________________________\n",
      "conv1d_1 (Conv1D)            (None, 256, 128)          1280      \n",
      "_________________________________________________________________\n",
      "batch_normalization_3 (Batch (None, 256, 128)          512       \n",
      "_________________________________________________________________\n",
      "spatial_dropout1d_1 (Spatial (None, 256, 128)          0         \n",
      "_________________________________________________________________\n",
      "max_pooling1d_1 (MaxPooling1 (None, 128, 128)          0         \n",
      "_________________________________________________________________\n",
      "conv1d_2 (Conv1D)            (None, 128, 128)          82048     \n",
      "_________________________________________________________________\n",
      "batch_normalization_4 (Batch (None, 128, 128)          512       \n",
      "_________________________________________________________________\n",
      "spatial_dropout1d_2 (Spatial (None, 128, 128)          0         \n",
      "_________________________________________________________________\n",
      "max_pooling1d_2 (MaxPooling1 (None, 64, 128)           0         \n",
      "_________________________________________________________________\n",
      "conv1d_3 (Conv1D)            (None, 64, 128)           82048     \n",
      "_________________________________________________________________\n",
      "batch_normalization_5 (Batch (None, 64, 128)           512       \n",
      "_________________________________________________________________\n",
      "spatial_dropout1d_3 (Spatial (None, 64, 128)           0         \n",
      "_________________________________________________________________\n",
      "max_pooling1d_3 (MaxPooling1 (None, 32, 128)           0         \n",
      "_________________________________________________________________\n",
      "conv1d_4 (Conv1D)            (None, 32, 128)           82048     \n",
      "_________________________________________________________________\n",
      "batch_normalization_6 (Batch (None, 32, 128)           512       \n",
      "_________________________________________________________________\n",
      "spatial_dropout1d_4 (Spatial (None, 32, 128)           0         \n",
      "_________________________________________________________________\n",
      "max_pooling1d_4 (MaxPooling1 (None, 16, 128)           0         \n",
      "_________________________________________________________________\n",
      "conv1d_5 (Conv1D)            (None, 16, 128)           82048     \n",
      "_________________________________________________________________\n",
      "batch_normalization_7 (Batch (None, 16, 128)           512       \n",
      "_________________________________________________________________\n",
      "spatial_dropout1d_5 (Spatial (None, 16, 128)           0         \n",
      "_________________________________________________________________\n",
      "max_pooling1d_5 (MaxPooling1 (None, 8, 128)            0         \n",
      "_________________________________________________________________\n",
      "dropout_1 (Dropout)          (None, 8, 128)            0         \n",
      "_________________________________________________________________\n",
      "time_distributed_1 (TimeDist (None, 8, 128)            16512     \n",
      "_________________________________________________________________\n",
      "up_sampling1d_1 (UpSampling1 (None, 16, 128)           0         \n",
      "_________________________________________________________________\n",
      "conv1d_6 (Conv1D)            (None, 16, 128)           82048     \n",
      "_________________________________________________________________\n",
      "batch_normalization_8 (Batch (None, 16, 128)           512       \n",
      "_________________________________________________________________\n",
      "spatial_dropout1d_6 (Spatial (None, 16, 128)           0         \n",
      "_________________________________________________________________\n",
      "up_sampling1d_2 (UpSampling1 (None, 32, 128)           0         \n",
      "_________________________________________________________________\n",
      "conv1d_7 (Conv1D)            (None, 32, 128)           82048     \n",
      "_________________________________________________________________\n",
      "batch_normalization_9 (Batch (None, 32, 128)           512       \n",
      "_________________________________________________________________\n",
      "spatial_dropout1d_7 (Spatial (None, 32, 128)           0         \n",
      "_________________________________________________________________\n",
      "up_sampling1d_3 (UpSampling1 (None, 64, 128)           0         \n",
      "_________________________________________________________________\n",
      "conv1d_8 (Conv1D)            (None, 64, 128)           82048     \n",
      "_________________________________________________________________\n",
      "batch_normalization_10 (Batc (None, 64, 128)           512       \n",
      "_________________________________________________________________\n",
      "spatial_dropout1d_8 (Spatial (None, 64, 128)           0         \n",
      "_________________________________________________________________\n",
      "up_sampling1d_4 (UpSampling1 (None, 128, 128)          0         \n",
      "_________________________________________________________________\n",
      "conv1d_9 (Conv1D)            (None, 128, 128)          82048     \n",
      "_________________________________________________________________\n",
      "batch_normalization_11 (Batc (None, 128, 128)          512       \n",
      "_________________________________________________________________\n",
      "spatial_dropout1d_9 (Spatial (None, 128, 128)          0         \n",
      "_________________________________________________________________\n",
      "dropout_2 (Dropout)          (None, 128, 128)          0         \n",
      "_________________________________________________________________\n",
      "time_distributed_2 (TimeDist (None, 128, 6)            774       \n",
      "_________________________________________________________________\n",
      "global_average_pooling1d_1 ( (None, 6)                 0         \n",
      "=================================================================\n",
      "Total params: 679,570\n",
      "Trainable params: 677,260\n",
      "Non-trainable params: 2,310\n",
      "_________________________________________________________________\n"
     ]
    }
   ],
   "source": [
    "model = create_model()\n",
    "model.summary()"
   ]
  },
  {
   "cell_type": "code",
   "execution_count": 8,
   "metadata": {},
   "outputs": [
    {
     "name": "stdout",
     "output_type": "stream",
     "text": [
      "Train with learning rate 0.001 and batch size 32\n",
      "Train on 2821 samples, validate on 1268 samples\n",
      "Epoch 1/20\n",
      "2821/2821 [==============================] - 5s 2ms/step - loss: 0.8349 - accuracy: 0.7122 - val_loss: 2.9884 - val_accuracy: 0.1782\n",
      "Epoch 2/20\n",
      " 320/2821 [==>...........................] - ETA: 1s - loss: 0.6577 - accuracy: 0.7563"
     ]
    },
    {
     "name": "stderr",
     "output_type": "stream",
     "text": [
      "/anaconda/envs/azureml_py36/lib/python3.6/site-packages/keras/engine/saving.py:165: UserWarning: TensorFlow optimizers do not make it possible to access optimizer attributes or optimizer state after instantiation. As a result, we cannot save the optimizer as part of the model save file.You will have to compile your model again after loading it. Prefer using a Keras optimizer instead (see keras.io/optimizers).\n",
      "  'TensorFlow optimizers do not '\n"
     ]
    },
    {
     "name": "stdout",
     "output_type": "stream",
     "text": [
      "2821/2821 [==============================] - 2s 662us/step - loss: 0.5716 - accuracy: 0.7884 - val_loss: 5.3957 - val_accuracy: 0.0781\n",
      "Epoch 3/20\n",
      "2821/2821 [==============================] - 2s 666us/step - loss: 0.5208 - accuracy: 0.8128 - val_loss: 2.8942 - val_accuracy: 0.3628\n",
      "Epoch 4/20\n",
      "2821/2821 [==============================] - 2s 658us/step - loss: 0.4407 - accuracy: 0.8380 - val_loss: 1.2097 - val_accuracy: 0.6972\n",
      "Epoch 5/20\n",
      "2821/2821 [==============================] - 2s 670us/step - loss: 0.3397 - accuracy: 0.8827 - val_loss: 1.5051 - val_accuracy: 0.7027\n",
      "Epoch 6/20\n",
      "2821/2821 [==============================] - 2s 666us/step - loss: 0.3521 - accuracy: 0.8724 - val_loss: 1.1154 - val_accuracy: 0.7744\n",
      "Epoch 7/20\n",
      "2821/2821 [==============================] - 2s 668us/step - loss: 0.3269 - accuracy: 0.8901 - val_loss: 0.9624 - val_accuracy: 0.7847\n",
      "Epoch 8/20\n",
      "2821/2821 [==============================] - 2s 664us/step - loss: 0.2936 - accuracy: 0.9050 - val_loss: 0.8723 - val_accuracy: 0.8202\n",
      "Epoch 9/20\n",
      "2821/2821 [==============================] - 2s 660us/step - loss: 0.2803 - accuracy: 0.9132 - val_loss: 0.7699 - val_accuracy: 0.8352\n",
      "Epoch 10/20\n",
      "2821/2821 [==============================] - 2s 669us/step - loss: 0.2106 - accuracy: 0.9358 - val_loss: 0.9594 - val_accuracy: 0.8044\n",
      "Epoch 11/20\n",
      "2821/2821 [==============================] - 2s 654us/step - loss: 0.1902 - accuracy: 0.9404 - val_loss: 0.6864 - val_accuracy: 0.8722\n",
      "Epoch 12/20\n",
      "2821/2821 [==============================] - 2s 677us/step - loss: 0.1761 - accuracy: 0.9507 - val_loss: 0.7996 - val_accuracy: 0.8289\n",
      "Epoch 13/20\n",
      "2821/2821 [==============================] - 2s 681us/step - loss: 0.1989 - accuracy: 0.9419 - val_loss: 0.6628 - val_accuracy: 0.8596\n",
      "Epoch 14/20\n",
      "2821/2821 [==============================] - 2s 666us/step - loss: 0.1930 - accuracy: 0.9422 - val_loss: 0.6647 - val_accuracy: 0.8604\n",
      "Epoch 15/20\n",
      "2821/2821 [==============================] - 2s 664us/step - loss: 0.1726 - accuracy: 0.9465 - val_loss: 0.9740 - val_accuracy: 0.8312\n",
      "Epoch 16/20\n",
      "2821/2821 [==============================] - 2s 662us/step - loss: 0.2770 - accuracy: 0.9153 - val_loss: 0.8156 - val_accuracy: 0.8336\n",
      "Epoch 17/20\n",
      "2821/2821 [==============================] - 2s 667us/step - loss: 0.1858 - accuracy: 0.9454 - val_loss: 0.7144 - val_accuracy: 0.8604\n",
      "Epoch 18/20\n",
      "2821/2821 [==============================] - 2s 661us/step - loss: 0.1590 - accuracy: 0.9568 - val_loss: 0.9145 - val_accuracy: 0.8438\n",
      "Epoch 19/20\n",
      "2821/2821 [==============================] - 2s 661us/step - loss: 0.1299 - accuracy: 0.9628 - val_loss: 0.7071 - val_accuracy: 0.8644\n",
      "Epoch 20/20\n",
      "2821/2821 [==============================] - 2s 660us/step - loss: 0.1339 - accuracy: 0.9614 - val_loss: 0.7970 - val_accuracy: 0.8525\n",
      "Best acc of this valid set 0.8722397685050964\n"
     ]
    }
   ],
   "source": [
    "train_results = []\n",
    "num_of_subjects = 36\n",
    "learning_rate = 1e-3\n",
    "batch_size = 32\n",
    "\n",
    "count = 0\n",
    "sum = 0\n",
    "\n",
    "print('Train with learning rate ' + str(learning_rate) + ' and batch size ' + str(batch_size))\n",
    "\n",
    "\n",
    "x_valid_list = x_data[0:12]\n",
    "y_valid_list = y_data[0:12]\n",
    "\n",
    "x_train_list = x_data[12:36]\n",
    "y_train_list = y_data[12:36]\n",
    "\n",
    "\n",
    "x_valid = np.concatenate(tuple(x_valid_list))\n",
    "y_valid = np.concatenate(tuple(y_valid_list))\n",
    "x_train = np.concatenate(tuple(x_train_list))\n",
    "y_train = np.concatenate(tuple(y_train_list))\n",
    "\n",
    "\n",
    "model = create_model(learning_rate)\n",
    "\n",
    "from keras.callbacks import EarlyStopping\n",
    "\n",
    "my_callbacks = [\n",
    "    keras.callbacks.ModelCheckpoint(filepath='model.{epoch:02d}-{val_accuracy:.2f}.h5',\n",
    "                                       monitor=\"val_accuracy\",\n",
    "                                       save_best_only=True)\n",
    "]\n",
    "\n",
    "\n",
    "H = model.fit(x_train, y_train, validation_data=(x_valid, y_valid), callbacks=my_callbacks, batch_size=batch_size, epochs=20, verbose=1)\n",
    "\n",
    "best_acc = np.max(H.history['val_accuracy'])\n",
    "print('Best acc of this valid set ' + str(best_acc))\n",
    "\n",
    "\n",
    "\n",
    "        "
   ]
  },
  {
   "cell_type": "code",
   "execution_count": 15,
   "metadata": {},
   "outputs": [
    {
     "name": "stdout",
     "output_type": "stream",
     "text": [
      "              precision    recall  f1-score   support\n",
      "\n",
      "     Jogging       0.97      1.00      0.98       418\n",
      "     Sitting       0.90      0.92      0.91        49\n",
      "    Standing       1.00      1.00      1.00        51\n",
      "     Walking       0.99      0.78      0.87       557\n",
      "    Upstairs       0.75      0.72      0.73       106\n",
      "  Downstairs       0.42      0.91      0.57        87\n",
      "\n",
      "   micro avg       0.87      0.87      0.87      1268\n",
      "   macro avg       0.84      0.89      0.84      1268\n",
      "weighted avg       0.92      0.87      0.88      1268\n",
      "\n",
      "Normalized confusion matrix\n"
     ]
    },
    {
     "data": {
      "text/plain": [
       "<Figure size 432x288 with 0 Axes>"
      ]
     },
     "metadata": {},
     "output_type": "display_data"
    },
    {
     "data": {
      "image/png": "[encoded data removed]",
      "text/plain": [
       "<Figure size 720x720 with 2 Axes>"
      ]
     },
     "metadata": {
      "needs_background": "light"
     },
     "output_type": "display_data"
    }
   ],
   "source": [
    "model = keras.models.load_model('model.11-0.87.h5')\n",
    "\n",
    "y_true = np.argmax(y_valid, axis = 1)\n",
    "y_pred = model.predict(x_valid)\n",
    "y_pred = np.argmax(y_pred, axis = 1)\n",
    "\n",
    "import itertools\n",
    "import numpy as np\n",
    "import matplotlib.pyplot as plt\n",
    "\n",
    "from sklearn import svm, datasets\n",
    "from sklearn.model_selection import train_test_split\n",
    "from sklearn.metrics import confusion_matrix\n",
    "from sklearn.metrics import classification_report\n",
    "\n",
    "\n",
    "def show_classification_report(y_true, y_pred, digits=4, labels=None, save_path=None):\n",
    "    \"\"\"\n",
    "    :param y_true: 1d array containing y true\n",
    "    :param y_pred: 1d array containing y pred\n",
    "    :param digits: number of digits to show\n",
    "    :param labels: list label names\n",
    "    :param save_path: path to save report\n",
    "    \"\"\"\n",
    "\n",
    "    # Select only existing labels from y true and y pred\n",
    "    unique_labels = np.unique(np.array([y_true, y_pred])).astype(np.int)\n",
    "    labels = labels[unique_labels]\n",
    "\n",
    "    # show report\n",
    "    report = classification_report(y_true, y_pred, digits=digits, target_names=labels)\n",
    "    print(report)\n",
    "\n",
    "    # save to file\n",
    "    if save_path is not None:\n",
    "        with open(save_path, 'w') as f:\n",
    "            f.write(report)\n",
    "\n",
    "\n",
    "def plot_confusion_matrix(cm, classes,\n",
    "                          normalize=False,\n",
    "                          title='Confusion matrix',\n",
    "                          cmap=plt.cm.Blues):\n",
    "    \"\"\"\n",
    "    This function prints and plots the confusion matrix.\n",
    "    Normalization can be applied by setting `normalize=True`.\n",
    "    \"\"\"\n",
    "    plt.figure(figsize=(10,10))\n",
    "    plt.imshow(cm, interpolation='nearest', cmap=cmap)\n",
    "    plt.title(title)\n",
    "    plt.colorbar()\n",
    "    tick_marks = np.arange(len(classes))\n",
    "    plt.xticks(tick_marks, classes, rotation=45)\n",
    "    plt.yticks(tick_marks, classes)\n",
    "\n",
    "    if normalize:\n",
    "        cm = cm.astype('float') / cm.sum(axis=1)[:, np.newaxis]\n",
    "        cm = np.around(cm, decimals=2)\n",
    "        print(\"Normalized confusion matrix\")\n",
    "    else:\n",
    "        print('Confusion matrix, without normalization')\n",
    "\n",
    "\n",
    "    thresh = cm.max() / 2.\n",
    "    for i, j in itertools.product(range(cm.shape[0]), range(cm.shape[1])):\n",
    "        plt.text(j, i, cm[i, j],\n",
    "                 horizontalalignment=\"center\",\n",
    "                 color=\"white\" if cm[i, j] > thresh else \"black\")\n",
    "\n",
    "    plt.tight_layout()\n",
    "    plt.ylabel('True label')\n",
    "    plt.xlabel('Predicted label')\n",
    "\n",
    "class_names = np.array(['Jogging',\n",
    "'Sitting',\n",
    "'Standing',\n",
    "'Walking',\n",
    "'Upstairs',\n",
    "'Downstairs'\n",
    "])\n",
    "    \n",
    "# Compute confusion matrix\n",
    "cnf_matrix = confusion_matrix(y_true, y_pred)\n",
    "np.set_printoptions(precision=2)\n",
    "\n",
    "# Show classificaiton report\n",
    "show_classification_report(y_true, y_pred, digits=2, labels=class_names)\n",
    "\n",
    "# Plot normalized confusion matrix\n",
    "plt.figure()\n",
    "plot_confusion_matrix(cnf_matrix, classes=class_names,normalize = True,\n",
    "                      title='Normalized confusion matrix')\n",
    "\n",
    "plt.show()"
   ]
  },
  {
   "cell_type": "code",
   "execution_count": 9,
   "metadata": {},
   "outputs": [],
   "source": [
    "f = open('result.txt', 'w')\n",
    "for e in train_results:\n",
    "    f.write(str(e))\n",
    "f.close()"
   ]
  },
  {
   "cell_type": "code",
   "execution_count": 10,
   "metadata": {},
   "outputs": [
    {
     "data": {
      "text/plain": [
       "0.8832807570977917"
      ]
     },
     "execution_count": 10,
     "metadata": {},
     "output_type": "execute_result"
    }
   ],
   "source": [
    "from sklearn.metrics import accuracy_score\n",
    "accuracy_score(y_true, y_pred)"
   ]
  },
  {
   "cell_type": "code",
   "execution_count": null,
   "metadata": {},
   "outputs": [],
   "source": []
  }
 ],
 "metadata": {
  "kernelspec": {
   "display_name": "Python 3 (ipykernel)",
   "language": "python",
   "name": "python3"
  },
  "language_info": {
   "codemirror_mode": {
    "name": "ipython",
    "version": 3
   },
   "file_extension": ".py",
   "mimetype": "text/x-python",
   "name": "python",
   "nbconvert_exporter": "python",
   "pygments_lexer": "ipython3",
   "version": "3.7.13"
  }
 },
 "nbformat": 4,
 "nbformat_minor": 4
}
